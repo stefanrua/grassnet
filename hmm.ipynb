{
 "cells": [
  {
   "cell_type": "code",
   "execution_count": 6,
   "id": "4852dd99",
   "metadata": {},
   "outputs": [],
   "source": [
    "import matplotlib.pyplot as plt\n",
    "import pandas as pd\n",
    "import numpy as np\n",
    "import random\n",
    "import os\n",
    "\n",
    "def hist(x, b=100, r=None):\n",
    "    plt.hist(x, bins=b, range=r, color='black')\n",
    "\n",
    "def scatter(x, y):\n",
    "    plt.plot(x, y,\n",
    "        color='black',\n",
    "        linestyle='',\n",
    "        marker='o',\n",
    "        markersize='2',\n",
    "        alpha=0.1)\n",
    "    \n",
    "def getfid(fname):\n",
    "    return int(fname.split('_id_')[1].split('.')[0])\n"
   ]
  },
  {
   "cell_type": "code",
   "execution_count": 31,
   "id": "a31fe09a",
   "metadata": {},
   "outputs": [
    {
     "data": {
      "image/png": "[encoded data removed]",
      "text/plain": [
       "<Figure size 432x288 with 1 Axes>"
      ]
     },
     "metadata": {
      "needs_background": "light"
     },
     "output_type": "display_data"
    }
   ],
   "source": [
    "l = pd.read_csv('labels/dmy.csv')\n",
    "fids = [getfid(x) for x in l.image]\n",
    "for i in [0, 9, 10, 2]:\n",
    "# for i in range(12):\n",
    "    minid = i * 10000\n",
    "    maxid = (i+1) * 10000 - 1\n",
    "    from_fid = pd.Series([x >= minid and x <= maxid for x in fids])\n",
    "    l_fid = l[from_fid]\n",
    "    plt.hist(l_fid.dmy, bins=100, range=(0, 10000), alpha=0.5, label=i)\n",
    "plt.legend()\n",
    "plt.show()"
   ]
  },
  {
   "cell_type": "markdown",
   "id": "3dab9c9d",
   "metadata": {},
   "source": [
    "## DMY"
   ]
  },
  {
   "cell_type": "code",
   "execution_count": 2,
   "id": "95271216",
   "metadata": {},
   "outputs": [],
   "source": [
    "l = pd.read_csv('labels/subset1.csv')"
   ]
  },
  {
   "cell_type": "code",
   "execution_count": 125,
   "id": "425bfb76",
   "metadata": {},
   "outputs": [
    {
     "data": {
      "image/png": "[encoded data removed]",
      "text/plain": [
       "<Figure size 432x288 with 1 Axes>"
      ]
     },
     "metadata": {
      "needs_background": "light"
     },
     "output_type": "display_data"
    }
   ],
   "source": [
    "n, bins, _ = plt.hist(l.dmy, bins=100, range=(0,10000), color='black')\n",
    "plt.show()"
   ]
  },
  {
   "cell_type": "code",
   "execution_count": 126,
   "id": "58ff316c",
   "metadata": {},
   "outputs": [
    {
     "data": {
      "text/plain": [
       "(array([  0.,   0.,   0.,   6.,   2.,   8.,   6.,   6.,   6.,  14.,   2.,\n",
       "         20.,  23.,  19.,   6.,  12.,  26.,  32.,  72., 132., 227., 246.,\n",
       "        283., 254., 200., 200., 129.,  87.,  32.,  32.,  24.,  30.,  24.,\n",
       "         54.,  60.,  54.,  72., 124., 115.,  85., 162.,  90., 152., 104.,\n",
       "        144., 174., 198., 174., 136., 170., 138., 150., 152.,  90., 122.,\n",
       "         76.,  98.,  84., 104., 104., 178., 102.,  88., 102.,  52.,  66.,\n",
       "         56.,  56.,  60.,  22.,  30.,  32.,  38.,  12.,  36.,  20.,  20.,\n",
       "         20.,   8.,   8.,   8.,  12.,   4.,   8.,   0.,   4.,   0.,   0.,\n",
       "          0.,   0.,   4.,   0.,   0.,   0.,   0.,   0.,   0.,   0.,   0.,\n",
       "          0.]),\n",
       " array([    0.,   100.,   200.,   300.,   400.,   500.,   600.,   700.,\n",
       "          800.,   900.,  1000.,  1100.,  1200.,  1300.,  1400.,  1500.,\n",
       "         1600.,  1700.,  1800.,  1900.,  2000.,  2100.,  2200.,  2300.,\n",
       "         2400.,  2500.,  2600.,  2700.,  2800.,  2900.,  3000.,  3100.,\n",
       "         3200.,  3300.,  3400.,  3500.,  3600.,  3700.,  3800.,  3900.,\n",
       "         4000.,  4100.,  4200.,  4300.,  4400.,  4500.,  4600.,  4700.,\n",
       "         4800.,  4900.,  5000.,  5100.,  5200.,  5300.,  5400.,  5500.,\n",
       "         5600.,  5700.,  5800.,  5900.,  6000.,  6100.,  6200.,  6300.,\n",
       "         6400.,  6500.,  6600.,  6700.,  6800.,  6900.,  7000.,  7100.,\n",
       "         7200.,  7300.,  7400.,  7500.,  7600.,  7700.,  7800.,  7900.,\n",
       "         8000.,  8100.,  8200.,  8300.,  8400.,  8500.,  8600.,  8700.,\n",
       "         8800.,  8900.,  9000.,  9100.,  9200.,  9300.,  9400.,  9500.,\n",
       "         9600.,  9700.,  9800.,  9900., 10000.]))"
      ]
     },
     "execution_count": 126,
     "metadata": {},
     "output_type": "execute_result"
    }
   ],
   "source": [
    "n, bins"
   ]
  },
  {
   "cell_type": "code",
   "execution_count": 127,
   "id": "e1fbfda5",
   "metadata": {},
   "outputs": [],
   "source": [
    "binmax = min(n[20:40])\n",
    "n2 = np.zeros(len(n))\n",
    "images = []\n",
    "labels = []\n",
    "\n",
    "l = l.sample(frac=1)\n",
    "\n",
    "def getbin(x):\n",
    "    b = 0\n",
    "    while bins[b+1] < x: b += 1\n",
    "    return b\n",
    "\n",
    "for i in range(len(l)):\n",
    "    binid = getbin(l.iloc[i, 1])\n",
    "    if n2[binid] < binmax:\n",
    "        n2[binid] += 1\n",
    "        images.append(l.iloc[i, 0])\n",
    "        labels.append(l.iloc[i, 1])"
   ]
  },
  {
   "cell_type": "code",
   "execution_count": 128,
   "id": "3cef23ca",
   "metadata": {},
   "outputs": [
    {
     "data": {
      "text/plain": [
       "1654"
      ]
     },
     "execution_count": 128,
     "metadata": {},
     "output_type": "execute_result"
    }
   ],
   "source": [
    "len(labels)"
   ]
  },
  {
   "cell_type": "code",
   "execution_count": 130,
   "id": "acc4b504",
   "metadata": {},
   "outputs": [
    {
     "data": {
      "image/png": "[encoded data removed]",
      "text/plain": [
       "<Figure size 432x288 with 1 Axes>"
      ]
     },
     "metadata": {
      "needs_background": "light"
     },
     "output_type": "display_data"
    }
   ],
   "source": [
    "plt.hist(l.dmy, bins=100, range=(0,10000), color='gray')\n",
    "plt.hist(labels, bins=100, range=(0,10000), color='black')\n",
    "plt.show()"
   ]
  },
  {
   "cell_type": "code",
   "execution_count": 131,
   "id": "ee4e6843",
   "metadata": {},
   "outputs": [],
   "source": [
    "l2 = pd.DataFrame({'image': images, 'dmy': labels})"
   ]
  },
  {
   "cell_type": "code",
   "execution_count": 133,
   "id": "8fbfbe0a",
   "metadata": {},
   "outputs": [
    {
     "data": {
      "text/html": [
       "<div>\n",
       "<style scoped>\n",
       "    .dataframe tbody tr th:only-of-type {\n",
       "        vertical-align: middle;\n",
       "    }\n",
       "\n",
       "    .dataframe tbody tr th {\n",
       "        vertical-align: top;\n",
       "    }\n",
       "\n",
       "    .dataframe thead th {\n",
       "        text-align: right;\n",
       "    }\n",
       "</style>\n",
       "<table border=\"1\" class=\"dataframe\">\n",
       "  <thead>\n",
       "    <tr style=\"text-align: right;\">\n",
       "      <th></th>\n",
       "      <th>image</th>\n",
       "      <th>dmy</th>\n",
       "    </tr>\n",
       "  </thead>\n",
       "  <tbody>\n",
       "    <tr>\n",
       "      <th>0</th>\n",
       "      <td>jokioinen_second_0754_id_40385.tif</td>\n",
       "      <td>2227</td>\n",
       "    </tr>\n",
       "    <tr>\n",
       "      <th>1</th>\n",
       "      <td>jokioinen_first_0976_id_80404.tif</td>\n",
       "      <td>5226</td>\n",
       "    </tr>\n",
       "    <tr>\n",
       "      <th>2</th>\n",
       "      <td>jokioinen_second_0223_id_40508.tif</td>\n",
       "      <td>2043</td>\n",
       "    </tr>\n",
       "    <tr>\n",
       "      <th>3</th>\n",
       "      <td>isokyrö_third_0864_id_110216.tif</td>\n",
       "      <td>7410</td>\n",
       "    </tr>\n",
       "    <tr>\n",
       "      <th>4</th>\n",
       "      <td>jokioinen_second_1080_id_40610.tif</td>\n",
       "      <td>1958</td>\n",
       "    </tr>\n",
       "    <tr>\n",
       "      <th>...</th>\n",
       "      <td>...</td>\n",
       "      <td>...</td>\n",
       "    </tr>\n",
       "    <tr>\n",
       "      <th>1649</th>\n",
       "      <td>isokyrö_third_0729_id_110183.tif</td>\n",
       "      <td>7534</td>\n",
       "    </tr>\n",
       "    <tr>\n",
       "      <th>1650</th>\n",
       "      <td>ylistaro_second_0037_id_70103.tif</td>\n",
       "      <td>3050</td>\n",
       "    </tr>\n",
       "    <tr>\n",
       "      <th>1651</th>\n",
       "      <td>rgb_n_0002_id_8.tif</td>\n",
       "      <td>1265</td>\n",
       "    </tr>\n",
       "    <tr>\n",
       "      <th>1652</th>\n",
       "      <td>jokioinen_first_0291_id_80341.tif</td>\n",
       "      <td>7377</td>\n",
       "    </tr>\n",
       "    <tr>\n",
       "      <th>1653</th>\n",
       "      <td>isokyrö_third_0519_id_110130.tif</td>\n",
       "      <td>7650</td>\n",
       "    </tr>\n",
       "  </tbody>\n",
       "</table>\n",
       "<p>1654 rows × 2 columns</p>\n",
       "</div>"
      ],
      "text/plain": [
       "                                   image   dmy\n",
       "0     jokioinen_second_0754_id_40385.tif  2227\n",
       "1      jokioinen_first_0976_id_80404.tif  5226\n",
       "2     jokioinen_second_0223_id_40508.tif  2043\n",
       "3       isokyrö_third_0864_id_110216.tif  7410\n",
       "4     jokioinen_second_1080_id_40610.tif  1958\n",
       "...                                  ...   ...\n",
       "1649    isokyrö_third_0729_id_110183.tif  7534\n",
       "1650   ylistaro_second_0037_id_70103.tif  3050\n",
       "1651                 rgb_n_0002_id_8.tif  1265\n",
       "1652   jokioinen_first_0291_id_80341.tif  7377\n",
       "1653    isokyrö_third_0519_id_110130.tif  7650\n",
       "\n",
       "[1654 rows x 2 columns]"
      ]
     },
     "execution_count": 133,
     "metadata": {},
     "output_type": "execute_result"
    }
   ],
   "source": [
    "l2"
   ]
  },
  {
   "cell_type": "code",
   "execution_count": 134,
   "id": "e5689e19",
   "metadata": {},
   "outputs": [],
   "source": [
    "l2.to_csv('labels/subset1-flattened2.csv', index=False)"
   ]
  },
  {
   "cell_type": "code",
   "execution_count": 165,
   "id": "72b095f0",
   "metadata": {},
   "outputs": [],
   "source": [
    "d = pd.read_csv('labels/full.csv', sep=';')"
   ]
  },
  {
   "cell_type": "code",
   "execution_count": 166,
   "id": "135d7754",
   "metadata": {},
   "outputs": [
    {
     "data": {
      "text/html": [
       "<div>\n",
       "<style scoped>\n",
       "    .dataframe tbody tr th:only-of-type {\n",
       "        vertical-align: middle;\n",
       "    }\n",
       "\n",
       "    .dataframe tbody tr th {\n",
       "        vertical-align: top;\n",
       "    }\n",
       "\n",
       "    .dataframe thead th {\n",
       "        text-align: right;\n",
       "    }\n",
       "</style>\n",
       "<table border=\"1\" class=\"dataframe\">\n",
       "  <thead>\n",
       "    <tr style=\"text-align: right;\">\n",
       "      <th></th>\n",
       "      <th>camp</th>\n",
       "      <th>id</th>\n",
       "      <th>FY</th>\n",
       "      <th>DMY</th>\n",
       "      <th>D-value</th>\n",
       "      <th>iNDF</th>\n",
       "      <th>NDF</th>\n",
       "      <th>WSC</th>\n",
       "      <th>Ncont</th>\n",
       "      <th>NU</th>\n",
       "      <th>OMD</th>\n",
       "      <th>valk</th>\n",
       "      <th>INDF</th>\n",
       "      <th>Nup</th>\n",
       "    </tr>\n",
       "  </thead>\n",
       "  <tbody>\n",
       "    <tr>\n",
       "      <th>0</th>\n",
       "      <td>PG_TR_20170606</td>\n",
       "      <td>1</td>\n",
       "      <td>1022.222222</td>\n",
       "      <td>335.955694</td>\n",
       "      <td>770.0</td>\n",
       "      <td>29.0</td>\n",
       "      <td>437.0</td>\n",
       "      <td>214.0</td>\n",
       "      <td>23.20</td>\n",
       "      <td>7.794172</td>\n",
       "      <td>NaN</td>\n",
       "      <td>NaN</td>\n",
       "      <td>NaN</td>\n",
       "      <td>NaN</td>\n",
       "    </tr>\n",
       "    <tr>\n",
       "      <th>1</th>\n",
       "      <td>PG_TR_20170606</td>\n",
       "      <td>2</td>\n",
       "      <td>3040.000000</td>\n",
       "      <td>974.725764</td>\n",
       "      <td>765.0</td>\n",
       "      <td>27.0</td>\n",
       "      <td>439.0</td>\n",
       "      <td>181.0</td>\n",
       "      <td>30.24</td>\n",
       "      <td>29.475707</td>\n",
       "      <td>NaN</td>\n",
       "      <td>NaN</td>\n",
       "      <td>NaN</td>\n",
       "      <td>NaN</td>\n",
       "    </tr>\n",
       "    <tr>\n",
       "      <th>2</th>\n",
       "      <td>PG_TR_20170606</td>\n",
       "      <td>3</td>\n",
       "      <td>3743.589744</td>\n",
       "      <td>1014.305955</td>\n",
       "      <td>758.0</td>\n",
       "      <td>31.0</td>\n",
       "      <td>445.0</td>\n",
       "      <td>162.0</td>\n",
       "      <td>32.00</td>\n",
       "      <td>32.457791</td>\n",
       "      <td>NaN</td>\n",
       "      <td>NaN</td>\n",
       "      <td>NaN</td>\n",
       "      <td>NaN</td>\n",
       "    </tr>\n",
       "    <tr>\n",
       "      <th>3</th>\n",
       "      <td>PG_TR_20170606</td>\n",
       "      <td>4</td>\n",
       "      <td>4160.000000</td>\n",
       "      <td>1178.858954</td>\n",
       "      <td>770.0</td>\n",
       "      <td>31.0</td>\n",
       "      <td>451.0</td>\n",
       "      <td>137.0</td>\n",
       "      <td>36.00</td>\n",
       "      <td>42.438922</td>\n",
       "      <td>NaN</td>\n",
       "      <td>NaN</td>\n",
       "      <td>NaN</td>\n",
       "      <td>NaN</td>\n",
       "    </tr>\n",
       "    <tr>\n",
       "      <th>4</th>\n",
       "      <td>PG_TR_20170606</td>\n",
       "      <td>5</td>\n",
       "      <td>4183.006536</td>\n",
       "      <td>1205.308328</td>\n",
       "      <td>758.0</td>\n",
       "      <td>32.0</td>\n",
       "      <td>452.0</td>\n",
       "      <td>122.0</td>\n",
       "      <td>38.24</td>\n",
       "      <td>46.090990</td>\n",
       "      <td>NaN</td>\n",
       "      <td>NaN</td>\n",
       "      <td>NaN</td>\n",
       "      <td>NaN</td>\n",
       "    </tr>\n",
       "    <tr>\n",
       "      <th>...</th>\n",
       "      <td>...</td>\n",
       "      <td>...</td>\n",
       "      <td>...</td>\n",
       "      <td>...</td>\n",
       "      <td>...</td>\n",
       "      <td>...</td>\n",
       "      <td>...</td>\n",
       "      <td>...</td>\n",
       "      <td>...</td>\n",
       "      <td>...</td>\n",
       "      <td>...</td>\n",
       "      <td>...</td>\n",
       "      <td>...</td>\n",
       "      <td>...</td>\n",
       "    </tr>\n",
       "    <tr>\n",
       "      <th>1814</th>\n",
       "      <td>NaN</td>\n",
       "      <td>110236</td>\n",
       "      <td>27167.381970</td>\n",
       "      <td>6330.000000</td>\n",
       "      <td>70.2</td>\n",
       "      <td>NaN</td>\n",
       "      <td>53.8</td>\n",
       "      <td>NaN</td>\n",
       "      <td>NaN</td>\n",
       "      <td>NaN</td>\n",
       "      <td>NaN</td>\n",
       "      <td>14.8</td>\n",
       "      <td>8.3</td>\n",
       "      <td>NaN</td>\n",
       "    </tr>\n",
       "    <tr>\n",
       "      <th>1815</th>\n",
       "      <td>NaN</td>\n",
       "      <td>110237</td>\n",
       "      <td>29166.666670</td>\n",
       "      <td>7000.000000</td>\n",
       "      <td>71.3</td>\n",
       "      <td>NaN</td>\n",
       "      <td>53.4</td>\n",
       "      <td>NaN</td>\n",
       "      <td>NaN</td>\n",
       "      <td>NaN</td>\n",
       "      <td>NaN</td>\n",
       "      <td>15.7</td>\n",
       "      <td>8.0</td>\n",
       "      <td>NaN</td>\n",
       "    </tr>\n",
       "    <tr>\n",
       "      <th>1816</th>\n",
       "      <td>NaN</td>\n",
       "      <td>110238</td>\n",
       "      <td>24166.007910</td>\n",
       "      <td>6114.000000</td>\n",
       "      <td>69.8</td>\n",
       "      <td>NaN</td>\n",
       "      <td>56.4</td>\n",
       "      <td>NaN</td>\n",
       "      <td>NaN</td>\n",
       "      <td>NaN</td>\n",
       "      <td>NaN</td>\n",
       "      <td>13.0</td>\n",
       "      <td>8.3</td>\n",
       "      <td>NaN</td>\n",
       "    </tr>\n",
       "    <tr>\n",
       "      <th>1817</th>\n",
       "      <td>NaN</td>\n",
       "      <td>110239</td>\n",
       "      <td>25333.333330</td>\n",
       "      <td>6764.000000</td>\n",
       "      <td>69.8</td>\n",
       "      <td>NaN</td>\n",
       "      <td>58.3</td>\n",
       "      <td>NaN</td>\n",
       "      <td>NaN</td>\n",
       "      <td>NaN</td>\n",
       "      <td>NaN</td>\n",
       "      <td>11.8</td>\n",
       "      <td>8.9</td>\n",
       "      <td>NaN</td>\n",
       "    </tr>\n",
       "    <tr>\n",
       "      <th>1818</th>\n",
       "      <td>NaN</td>\n",
       "      <td>110240</td>\n",
       "      <td>21667.857140</td>\n",
       "      <td>6067.000000</td>\n",
       "      <td>73.2</td>\n",
       "      <td>NaN</td>\n",
       "      <td>54.6</td>\n",
       "      <td>NaN</td>\n",
       "      <td>NaN</td>\n",
       "      <td>NaN</td>\n",
       "      <td>NaN</td>\n",
       "      <td>12.2</td>\n",
       "      <td>7.7</td>\n",
       "      <td>NaN</td>\n",
       "    </tr>\n",
       "  </tbody>\n",
       "</table>\n",
       "<p>1806 rows × 14 columns</p>\n",
       "</div>"
      ],
      "text/plain": [
       "                camp      id            FY          DMY  D-value  iNDF    NDF  \\\n",
       "0     PG_TR_20170606       1   1022.222222   335.955694    770.0  29.0  437.0   \n",
       "1     PG_TR_20170606       2   3040.000000   974.725764    765.0  27.0  439.0   \n",
       "2     PG_TR_20170606       3   3743.589744  1014.305955    758.0  31.0  445.0   \n",
       "3     PG_TR_20170606       4   4160.000000  1178.858954    770.0  31.0  451.0   \n",
       "4     PG_TR_20170606       5   4183.006536  1205.308328    758.0  32.0  452.0   \n",
       "...              ...     ...           ...          ...      ...   ...    ...   \n",
       "1814             NaN  110236  27167.381970  6330.000000     70.2   NaN   53.8   \n",
       "1815             NaN  110237  29166.666670  7000.000000     71.3   NaN   53.4   \n",
       "1816             NaN  110238  24166.007910  6114.000000     69.8   NaN   56.4   \n",
       "1817             NaN  110239  25333.333330  6764.000000     69.8   NaN   58.3   \n",
       "1818             NaN  110240  21667.857140  6067.000000     73.2   NaN   54.6   \n",
       "\n",
       "        WSC  Ncont         NU  OMD  valk  INDF  Nup  \n",
       "0     214.0  23.20   7.794172  NaN   NaN   NaN  NaN  \n",
       "1     181.0  30.24  29.475707  NaN   NaN   NaN  NaN  \n",
       "2     162.0  32.00  32.457791  NaN   NaN   NaN  NaN  \n",
       "3     137.0  36.00  42.438922  NaN   NaN   NaN  NaN  \n",
       "4     122.0  38.24  46.090990  NaN   NaN   NaN  NaN  \n",
       "...     ...    ...        ...  ...   ...   ...  ...  \n",
       "1814    NaN    NaN        NaN  NaN  14.8   8.3  NaN  \n",
       "1815    NaN    NaN        NaN  NaN  15.7   8.0  NaN  \n",
       "1816    NaN    NaN        NaN  NaN  13.0   8.3  NaN  \n",
       "1817    NaN    NaN        NaN  NaN  11.8   8.9  NaN  \n",
       "1818    NaN    NaN        NaN  NaN  12.2   7.7  NaN  \n",
       "\n",
       "[1806 rows x 14 columns]"
      ]
     },
     "execution_count": 166,
     "metadata": {},
     "output_type": "execute_result"
    }
   ],
   "source": [
    "not_rg_test_idx = (d['id'] < 30000) | (d['id'] >= 40000)\n",
    "has_dvalue = d['D-value'].notna()\n",
    "criteria = not_rg_test_idx & has_dvalue\n",
    "d = d[criteria]\n",
    "d"
   ]
  },
  {
   "cell_type": "code",
   "execution_count": 174,
   "id": "3af1e3e6",
   "metadata": {},
   "outputs": [
    {
     "data": {
      "image/png": "[encoded data removed]",
      "text/plain": [
       "<Figure size 432x288 with 1 Axes>"
      ]
     },
     "metadata": {
      "needs_background": "light"
     },
     "output_type": "display_data"
    }
   ],
   "source": [
    "dmy = d['DMY']\n",
    "dvalue = d['D-value']\n",
    "dvalue_adjusted = [d/10 if d>100 else d for d in dvalue]\n",
    "scatter(dmy, dvalue_adjusted)"
   ]
  },
  {
   "cell_type": "markdown",
   "id": "0356c0fc",
   "metadata": {},
   "source": [
    "## D-value"
   ]
  },
  {
   "cell_type": "code",
   "execution_count": 123,
   "id": "c0f88150",
   "metadata": {},
   "outputs": [
    {
     "data": {
      "image/png": "[encoded data removed]",
      "text/plain": [
       "<Figure size 432x288 with 1 Axes>"
      ]
     },
     "metadata": {
      "needs_background": "light"
     },
     "output_type": "display_data"
    }
   ],
   "source": [
    "dvalue_df = pd.read_csv('labels/dvalue.csv')\n",
    "dvalues = dvalue_df['D-value']\n",
    "hist(dvalues)"
   ]
  },
  {
   "cell_type": "code",
   "execution_count": 124,
   "id": "cf173e6d",
   "metadata": {},
   "outputs": [
    {
     "data": {
      "image/png": "[encoded data removed]",
      "text/plain": [
       "<Figure size 432x288 with 1 Axes>"
      ]
     },
     "metadata": {
      "needs_background": "light"
     },
     "output_type": "display_data"
    }
   ],
   "source": [
    "dvalues = [d/10 if d>100 else d for d in dvalues]\n",
    "hist(dvalues)"
   ]
  },
  {
   "cell_type": "code",
   "execution_count": 125,
   "id": "787c392e",
   "metadata": {},
   "outputs": [],
   "source": [
    "dvalue_adjusted_df = dvalue_df.copy()\n",
    "dvalue_adjusted_df['D-value'] = dvalues\n",
    "dvalue_adjusted_df.to_csv('labels/dvalue-adjusted.csv', index=False)"
   ]
  },
  {
   "cell_type": "markdown",
   "id": "7ea5d6d6",
   "metadata": {},
   "source": [
    "## Comparisons"
   ]
  },
  {
   "cell_type": "code",
   "execution_count": 182,
   "id": "c7f7f2d7",
   "metadata": {},
   "outputs": [
    {
     "data": {
      "text/html": [
       "<div>\n",
       "<style scoped>\n",
       "    .dataframe tbody tr th:only-of-type {\n",
       "        vertical-align: middle;\n",
       "    }\n",
       "\n",
       "    .dataframe tbody tr th {\n",
       "        vertical-align: top;\n",
       "    }\n",
       "\n",
       "    .dataframe thead th {\n",
       "        text-align: right;\n",
       "    }\n",
       "</style>\n",
       "<table border=\"1\" class=\"dataframe\">\n",
       "  <thead>\n",
       "    <tr style=\"text-align: right;\">\n",
       "      <th></th>\n",
       "      <th>run</th>\n",
       "      <th>nrmse (%)</th>\n",
       "    </tr>\n",
       "  </thead>\n",
       "  <tbody>\n",
       "    <tr>\n",
       "      <th>0</th>\n",
       "      <td>dvalue</td>\n",
       "      <td>7.883</td>\n",
       "    </tr>\n",
       "    <tr>\n",
       "      <th>1</th>\n",
       "      <td>dvalue-histeq</td>\n",
       "      <td>1.669</td>\n",
       "    </tr>\n",
       "    <tr>\n",
       "      <th>2</th>\n",
       "      <td>dvalue-adjusted</td>\n",
       "      <td>0.008</td>\n",
       "    </tr>\n",
       "    <tr>\n",
       "      <th>3</th>\n",
       "      <td>dvalue-adjusted-histeq</td>\n",
       "      <td>0.011</td>\n",
       "    </tr>\n",
       "    <tr>\n",
       "      <th>4</th>\n",
       "      <td>dmy</td>\n",
       "      <td>1.213</td>\n",
       "    </tr>\n",
       "    <tr>\n",
       "      <th>5</th>\n",
       "      <td>dmy-histeq</td>\n",
       "      <td>1.169</td>\n",
       "    </tr>\n",
       "    <tr>\n",
       "      <th>6</th>\n",
       "      <td>dmy-flat</td>\n",
       "      <td>2.137</td>\n",
       "    </tr>\n",
       "    <tr>\n",
       "      <th>7</th>\n",
       "      <td>dmy-flat-histeq</td>\n",
       "      <td>2.109</td>\n",
       "    </tr>\n",
       "  </tbody>\n",
       "</table>\n",
       "</div>"
      ],
      "text/plain": [
       "                      run  nrmse (%)\n",
       "0                  dvalue      7.883\n",
       "1           dvalue-histeq      1.669\n",
       "2         dvalue-adjusted      0.008\n",
       "3  dvalue-adjusted-histeq      0.011\n",
       "4                     dmy      1.213\n",
       "5              dmy-histeq      1.169\n",
       "6                dmy-flat      2.137\n",
       "7         dmy-flat-histeq      2.109"
      ]
     },
     "execution_count": 182,
     "metadata": {},
     "output_type": "execute_result"
    }
   ],
   "source": [
    "# runs = os.listdir('out/')\n",
    "# runs = [x for x in runs if len(x.split('-')) > 1]\n",
    "runs = [\n",
    "    '33-dvalue',\n",
    "    '34-dvalue-histeq',\n",
    "    '39-dvalue-adjusted',\n",
    "    '40-dvalue-adjusted-histeq',\n",
    "    '35-dmy',\n",
    "    '36-dmy-histeq',\n",
    "    '37-dmy-flat',\n",
    "    '38-dmy-flat-histeq'\n",
    "]\n",
    "\n",
    "nrmses = [pd.read_csv(f'out/{run}/results.csv')['nrmse'].item() for run in runs]\n",
    "nrmses = [round(100 * nrmse, 3) for nrmse in nrmses]\n",
    "\n",
    "runs = [run[3:] for run in runs]\n",
    "\n",
    "table = pd.DataFrame()\n",
    "table['run'] = runs\n",
    "table['nrmse (%)'] = nrmses\n",
    "table"
   ]
  },
  {
   "cell_type": "code",
   "execution_count": 183,
   "id": "afe02bfa",
   "metadata": {},
   "outputs": [
    {
     "data": {
      "image/png": "[encoded data removed]",
      "text/plain": [
       "<Figure size 432x288 with 1 Axes>"
      ]
     },
     "metadata": {
      "needs_background": "light"
     },
     "output_type": "display_data"
    }
   ],
   "source": [
    "pred = pd.read_csv('out/39-dvalue-adjusted/predictions.csv')\n",
    "line = [min(pred['label']), max(pred['label'])]\n",
    "# line = [0, 100]\n",
    "plt.plot(line, line, color='gray')\n",
    "scatter(pred['label'], pred['prediction'])"
   ]
  },
  {
   "cell_type": "code",
   "execution_count": 190,
   "id": "e640fd4d",
   "metadata": {},
   "outputs": [
    {
     "name": "stdout",
     "output_type": "stream",
     "text": [
      "5.996%\n"
     ]
    },
    {
     "data": {
      "image/png": "[encoded data removed]",
      "text/plain": [
       "<Figure size 432x288 with 1 Axes>"
      ]
     },
     "metadata": {
      "needs_background": "light"
     },
     "output_type": "display_data"
    }
   ],
   "source": [
    "from sklearn.metrics import mean_squared_error\n",
    "label = pred['label']\n",
    "mean = label.mean()\n",
    "guess = [mean for _ in label]\n",
    "nrmse = mean_squared_error(label, guess)/mean\n",
    "print(f'{round(nrmse*100, 3)}%')\n",
    "line = [min(pred['label']), max(pred['label'])]\n",
    "plt.plot(line, line, color='gray')\n",
    "scatter(label, guess)"
   ]
  }
 ],
 "metadata": {
  "kernelspec": {
   "display_name": "Python 3 (ipykernel)",
   "language": "python",
   "name": "python3"
  },
  "language_info": {
   "codemirror_mode": {
    "name": "ipython",
    "version": 3
   },
   "file_extension": ".py",
   "mimetype": "text/x-python",
   "name": "python",
   "nbconvert_exporter": "python",
   "pygments_lexer": "ipython3",
   "version": "3.10.6"
  }
 },
 "nbformat": 4,
 "nbformat_minor": 5
}
